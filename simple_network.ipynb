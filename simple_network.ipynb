{
 "cells": [
  {
   "cell_type": "code",
   "execution_count": 1,
   "metadata": {},
   "outputs": [],
   "source": [
    "import torch\n",
    "import torch.nn as nn\n"
   ]
  },
  {
   "cell_type": "code",
   "execution_count": 33,
   "metadata": {},
   "outputs": [
    {
     "name": "stdout",
     "output_type": "stream",
     "text": [
      "torch.Size([1, 1, 64, 64])\n"
     ]
    }
   ],
   "source": [
    "num_samples =1\n",
    "num_chanels = 1\n",
    "num_classes = 10\n",
    "h,w  = 64, 64\n",
    "x = torch.randn((num_samples, num_chanels, h, w))\n",
    "print(x.shape)\n",
    "labels = torch.tensor([1,0,1,3,2])"
   ]
  },
  {
   "cell_type": "code",
   "execution_count": 68,
   "metadata": {},
   "outputs": [],
   "source": [
    "model = torch.nn.Sequential(\n",
    "    nn.Conv2d(num_chanels, 6, 5), #num*w*h\n",
    "    nn.ReLU(),\n",
    "    nn.MaxPool2d((2,2)),\n",
    "    \n",
    "    nn.Conv2d(6, 8, 5), #\n",
    "    nn.ReLU(),\n",
    "    nn.MaxPool2d((2,2)),\n",
    "    \n",
    "    nn.Flatten(),\n",
    "    nn.Linear(8*5*5,80),\n",
    "    nn.ReLU(),\n",
    "    nn.Linear(80, num_classes),\n",
    "    nn.Softmax()\n",
    ")"
   ]
  },
  {
   "cell_type": "code",
   "execution_count": 56,
   "metadata": {},
   "outputs": [],
   "source": [
    "net_new = nn.Sequential(\n",
    "            nn.Conv2d(3, 6, 5),\n",
    "            nn.ReLU(),\n",
    "            nn.MaxPool2d((2,2)),\n",
    "            nn.Conv2d(6, 16, 5),\n",
    "            nn.ReLU(),\n",
    "            nn.MaxPool2d(2),\n",
    "            # nn.Flatten(),\n",
    "            # nn.Linear(16 * 5 * 5, 120),\n",
    "            # nn.ReLU(),\n",
    "            # nn.Linear(120, 84),\n",
    "            # nn.ReLU(),\n",
    "            # nn.Linear(84, 10)\n",
    "            )\n"
   ]
  },
  {
   "cell_type": "code",
   "execution_count": 70,
   "metadata": {},
   "outputs": [
    {
     "name": "stdout",
     "output_type": "stream",
     "text": [
      "torch.Size([1, 10])\n",
      "tensor([[0.0968, 0.1110, 0.1267, 0.0869, 0.0883, 0.1146, 0.0891, 0.0960, 0.1024,\n",
      "         0.0882]], grad_fn=<SoftmaxBackward0>)\n"
     ]
    },
    {
     "name": "stderr",
     "output_type": "stream",
     "text": [
      "/home/intelpen/miniconda3/envs/py311/lib/python3.11/site-packages/torch/nn/modules/module.py:1511: UserWarning: Implicit dimension choice for softmax has been deprecated. Change the call to include dim=X as an argument.\n",
      "  return self._call_impl(*args, **kwargs)\n"
     ]
    }
   ],
   "source": [
    "im_tensor_1 = torch.randn((1,1,32,32)) #image 64*64\n",
    "#model(im_tensor_1).size()\n",
    "#print(net_new(im_tensor_1).size())\n",
    "print(model(im_tensor_1).size())\n",
    "print(model(im_tensor_1))"
   ]
  }
 ],
 "metadata": {
  "kernelspec": {
   "display_name": "py311",
   "language": "python",
   "name": "python3"
  },
  "language_info": {
   "codemirror_mode": {
    "name": "ipython",
    "version": 3
   },
   "file_extension": ".py",
   "mimetype": "text/x-python",
   "name": "python",
   "nbconvert_exporter": "python",
   "pygments_lexer": "ipython3",
   "version": "3.11.5"
  }
 },
 "nbformat": 4,
 "nbformat_minor": 2
}
