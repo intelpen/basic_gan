{
 "cells": [
  {
   "cell_type": "markdown",
   "metadata": {},
   "source": [
    "#  Tensors"
   ]
  },
  {
   "cell_type": "code",
   "execution_count": 1,
   "metadata": {},
   "outputs": [],
   "source": [
    "import torch\n",
    "import numpy as np"
   ]
  },
  {
   "cell_type": "code",
   "execution_count": 5,
   "metadata": {},
   "outputs": [
    {
     "data": {
      "text/plain": [
       "tensor([[1, 2],\n",
       "        [3, 4]])"
      ]
     },
     "execution_count": 5,
     "metadata": {},
     "output_type": "execute_result"
    }
   ],
   "source": [
    "data = [[1,2],[3,4]]\n",
    "x_data = torch.tensor(data)\n",
    "x_data"
   ]
  },
  {
   "cell_type": "code",
   "execution_count": 8,
   "metadata": {},
   "outputs": [
    {
     "data": {
      "text/plain": [
       "tensor([[1, 2],\n",
       "        [3, 4]])"
      ]
     },
     "execution_count": 8,
     "metadata": {},
     "output_type": "execute_result"
    }
   ],
   "source": [
    "np_array = np.array(data)\n",
    "np_array\n",
    "x_np = torch.from_numpy(np_array)\n",
    "x_np"
   ]
  },
  {
   "cell_type": "code",
   "execution_count": 7,
   "metadata": {},
   "outputs": [
    {
     "data": {
      "text/plain": [
       "tensor([[1, 1],\n",
       "        [1, 1]])"
      ]
     },
     "execution_count": 7,
     "metadata": {},
     "output_type": "execute_result"
    }
   ],
   "source": [
    "x_ones = torch.ones_like(x_data)\n",
    "x_ones"
   ]
  },
  {
   "cell_type": "code",
   "execution_count": 10,
   "metadata": {},
   "outputs": [
    {
     "data": {
      "text/plain": [
       "tensor([[0.3138, 0.7564],\n",
       "        [0.4633, 0.4337]])"
      ]
     },
     "execution_count": 10,
     "metadata": {},
     "output_type": "execute_result"
    }
   ],
   "source": [
    "x_rand =torch.rand_like(x_data, dtype = torch.float)\n",
    "x_rand"
   ]
  },
  {
   "cell_type": "markdown",
   "metadata": {},
   "source": [
    "## Initialize with shape"
   ]
  },
  {
   "cell_type": "code",
   "execution_count": 18,
   "metadata": {},
   "outputs": [
    {
     "name": "stdout",
     "output_type": "stream",
     "text": [
      "0.9999905824661255,5.066394805908203e-06\n"
     ]
    }
   ],
   "source": [
    "shape = (200,300)\n",
    "x_data = torch.zeros(shape)\n",
    "rand_tensor = torch.rand_like(x_data, dtype = torch.float)\n",
    "print(f'{rand_tensor.max()},{rand_tensor.min()}')"
   ]
  },
  {
   "cell_type": "code",
   "execution_count": 20,
   "metadata": {},
   "outputs": [
    {
     "data": {
      "text/plain": [
       "torch.Size([200, 300])"
      ]
     },
     "execution_count": 20,
     "metadata": {},
     "output_type": "execute_result"
    }
   ],
   "source": [
    "rand_tensor.shape"
   ]
  },
  {
   "cell_type": "code",
   "execution_count": 21,
   "metadata": {},
   "outputs": [
    {
     "data": {
      "text/plain": [
       "device(type='cpu')"
      ]
     },
     "execution_count": 21,
     "metadata": {},
     "output_type": "execute_result"
    }
   ],
   "source": [
    "rand_tensor.device"
   ]
  },
  {
   "cell_type": "code",
   "execution_count": 22,
   "metadata": {},
   "outputs": [
    {
     "name": "stdout",
     "output_type": "stream",
     "text": [
      "cuda:0\n"
     ]
    }
   ],
   "source": [
    "if torch.cuda.is_available():\n",
    "    rand_tensor = rand_tensor.to('cuda')\n",
    "    print(rand_tensor.device)"
   ]
  },
  {
   "cell_type": "code",
   "execution_count": 23,
   "metadata": {},
   "outputs": [
    {
     "data": {
      "text/plain": [
       "tensor([[1., 0., 1., 1.],\n",
       "        [1., 0., 1., 1.],\n",
       "        [1., 0., 1., 1.],\n",
       "        [1., 0., 1., 1.]])"
      ]
     },
     "execution_count": 23,
     "metadata": {},
     "output_type": "execute_result"
    }
   ],
   "source": [
    "tensor = torch.ones(4,4)\n",
    "tensor[:,1] = 0\n",
    "tensor"
   ]
  },
  {
   "cell_type": "code",
   "execution_count": 24,
   "metadata": {},
   "outputs": [
    {
     "data": {
      "text/plain": [
       "tensor([[1., 0., 1., 1., 1., 0., 1., 1., 1., 0., 1., 1.],\n",
       "        [1., 0., 1., 1., 1., 0., 1., 1., 1., 0., 1., 1.],\n",
       "        [1., 0., 1., 1., 1., 0., 1., 1., 1., 0., 1., 1.],\n",
       "        [1., 0., 1., 1., 1., 0., 1., 1., 1., 0., 1., 1.]])"
      ]
     },
     "execution_count": 24,
     "metadata": {},
     "output_type": "execute_result"
    }
   ],
   "source": [
    "t1 = torch.cat([tensor]*3, dim=1)\n",
    "t1"
   ]
  },
  {
   "cell_type": "code",
   "execution_count": 25,
   "metadata": {},
   "outputs": [
    {
     "data": {
      "text/plain": [
       "tensor([[3., 3., 3., 3.],\n",
       "        [3., 3., 3., 3.],\n",
       "        [3., 3., 3., 3.],\n",
       "        [3., 3., 3., 3.]])"
      ]
     },
     "execution_count": 25,
     "metadata": {},
     "output_type": "execute_result"
    }
   ],
   "source": [
    "tensor.matmul(tensor.T)"
   ]
  },
  {
   "cell_type": "code",
   "execution_count": 26,
   "metadata": {},
   "outputs": [
    {
     "data": {
      "text/plain": [
       "tensor([[3., 3., 3., 3.],\n",
       "        [3., 3., 3., 3.],\n",
       "        [3., 3., 3., 3.],\n",
       "        [3., 3., 3., 3.]])"
      ]
     },
     "execution_count": 26,
     "metadata": {},
     "output_type": "execute_result"
    }
   ],
   "source": [
    "tensor@tensor.T"
   ]
  },
  {
   "cell_type": "code",
   "execution_count": 27,
   "metadata": {},
   "outputs": [],
   "source": [
    "# Tensor  to numpy"
   ]
  },
  {
   "cell_type": "code",
   "execution_count": 30,
   "metadata": {},
   "outputs": [],
   "source": [
    "t = torch.ones(5)\n",
    "n = t.numpy()"
   ]
  },
  {
   "cell_type": "code",
   "execution_count": 31,
   "metadata": {},
   "outputs": [
    {
     "name": "stdout",
     "output_type": "stream",
     "text": [
      "tensor([2., 2., 2., 2., 2.])\n",
      "[2. 2. 2. 2. 2.]\n"
     ]
    }
   ],
   "source": [
    "#both th tensor and linked numpy are modified\n",
    "t.add_(1)\n",
    "print(t)\n",
    "print(n)"
   ]
  },
  {
   "cell_type": "markdown",
   "metadata": {},
   "source": [
    "# Autograd "
   ]
  },
  {
   "cell_type": "code",
   "execution_count": 5,
   "metadata": {},
   "outputs": [
    {
     "data": {
      "text/plain": [
       "tensor([[8.2995e-01, 3.5181e-01, 9.7174e-01, 9.9821e-01, 2.5575e-01, 7.8434e-02,\n",
       "         5.1858e-01, 8.0455e-02, 5.9222e-01, 5.3671e-02, 2.1143e-01, 7.1880e-01,\n",
       "         6.4225e-01, 8.0243e-01, 6.7352e-01, 2.8500e-01, 4.9095e-01, 8.7154e-01,\n",
       "         9.6628e-01, 7.9509e-01, 5.2443e-01, 2.8295e-01, 9.3524e-01, 1.5380e-01,\n",
       "         9.3099e-02, 8.7665e-01, 1.9489e-01, 8.4224e-01, 4.5808e-01, 9.8960e-01,\n",
       "         2.4473e-01, 1.6215e-02, 9.0173e-01, 1.3534e-01, 5.9654e-01, 3.7612e-01,\n",
       "         5.6757e-02, 7.4518e-01, 9.8943e-01, 1.1474e-01, 8.2057e-01, 5.6941e-01,\n",
       "         1.2998e-01, 8.1630e-01, 6.7228e-01, 7.9711e-01, 8.6957e-01, 2.2672e-01,\n",
       "         6.9113e-01, 9.5550e-01, 3.3796e-01, 3.1000e-01, 8.1582e-01, 6.2931e-02,\n",
       "         3.3047e-01, 5.0335e-01, 6.8433e-01, 5.3067e-01, 2.0935e-01, 2.8507e-01,\n",
       "         6.8924e-01, 3.8451e-01, 5.3279e-01, 7.7114e-01, 4.0460e-02, 2.9730e-02,\n",
       "         6.7358e-01, 8.3931e-01, 2.2413e-01, 3.7409e-01, 6.0166e-02, 2.3164e-01,\n",
       "         4.3304e-01, 2.2330e-01, 6.1075e-01, 1.6673e-01, 4.4750e-01, 5.4663e-01,\n",
       "         2.8258e-01, 4.2379e-01, 4.3799e-01, 2.0902e-01, 9.3028e-01, 3.2617e-01,\n",
       "         2.2014e-01, 1.1113e-01, 1.8284e-01, 8.7770e-01, 5.6146e-01, 2.9697e-01,\n",
       "         3.8819e-02, 2.3091e-01, 4.8598e-01, 3.4425e-01, 5.7376e-01, 9.6960e-01,\n",
       "         4.8107e-01, 1.2152e-01, 8.1507e-01, 7.3683e-01, 1.2789e-01, 2.5014e-01,\n",
       "         2.1270e-02, 9.1657e-02, 1.7162e-01, 6.1011e-01, 8.6201e-01, 2.1477e-01,\n",
       "         1.9045e-02, 7.8396e-01, 9.1637e-01, 2.0154e-02, 6.2278e-01, 7.5655e-01,\n",
       "         2.9109e-01, 8.5679e-01, 8.8556e-01, 6.9916e-01, 6.0866e-01, 3.3313e-01,\n",
       "         4.7411e-01, 2.2093e-01, 7.7270e-01, 4.1006e-01, 6.5889e-01, 3.0392e-01,\n",
       "         4.1644e-01, 9.5630e-01, 1.2033e-01, 9.3135e-01, 6.5886e-01, 6.2390e-01,\n",
       "         6.3451e-01, 1.4196e-01, 8.1653e-01, 1.7150e-01, 4.7163e-01, 6.1771e-01,\n",
       "         2.5336e-02, 3.0145e-01, 1.8599e-01, 3.5056e-01, 4.8620e-01, 5.0860e-03,\n",
       "         2.4978e-01, 8.2092e-01, 8.8702e-01, 9.3415e-01, 2.7016e-01, 5.9409e-01,\n",
       "         3.2519e-01, 8.4502e-01, 6.2574e-01, 7.4738e-01, 4.1565e-01, 4.4845e-01,\n",
       "         5.1631e-02, 2.4872e-01, 9.4230e-01, 2.3853e-01, 8.5655e-01, 7.6513e-02,\n",
       "         8.2569e-02, 7.9494e-01, 7.5946e-01, 7.7660e-01, 7.8239e-01, 3.2134e-01,\n",
       "         3.6289e-01, 7.8166e-01, 5.0398e-01, 4.9626e-01, 4.0524e-01, 6.9962e-02,\n",
       "         9.2694e-01, 5.2483e-01, 6.4042e-01, 3.3836e-01, 7.8405e-01, 9.7758e-01,\n",
       "         7.6060e-01, 5.0650e-01, 7.5583e-01, 4.9823e-01, 8.0033e-01, 4.3859e-01,\n",
       "         7.6815e-02, 2.1586e-01, 6.7485e-01, 9.6135e-01, 6.5081e-01, 7.8766e-01,\n",
       "         1.7601e-01, 3.2999e-01, 3.6395e-01, 8.1124e-01, 3.1297e-01, 6.3640e-01,\n",
       "         6.5470e-01, 2.7774e-01, 4.4672e-01, 5.0749e-01, 5.6035e-01, 8.7555e-01,\n",
       "         3.3965e-01, 1.5415e-01, 8.7820e-01, 3.1913e-01, 3.0764e-01, 5.9701e-01,\n",
       "         1.5961e-01, 4.3542e-01, 6.3528e-01, 4.9534e-01, 5.7173e-01, 9.5868e-01,\n",
       "         4.6458e-01, 6.4361e-01, 6.1483e-02, 7.7749e-02, 3.7267e-01, 3.0265e-01,\n",
       "         9.2780e-01, 1.6433e-01, 9.6780e-01, 8.5930e-02, 8.4759e-01, 7.4101e-01,\n",
       "         6.9590e-01, 9.8039e-01, 6.8494e-01, 4.5839e-01, 3.3147e-01, 9.2167e-01,\n",
       "         9.6766e-01, 7.4558e-02, 8.9417e-01, 5.1750e-01, 6.1869e-01, 2.0652e-01,\n",
       "         9.4675e-01, 6.4450e-01, 8.1109e-01, 4.1374e-02, 2.4126e-01, 2.6000e-01,\n",
       "         5.9669e-01, 1.5566e-01, 1.4127e-01, 6.8174e-01, 6.1654e-01, 7.2971e-01,\n",
       "         2.8865e-01, 3.6844e-02, 8.1527e-02, 8.3883e-03, 1.4902e-01, 6.2669e-01,\n",
       "         6.9685e-01, 5.0461e-01, 9.2595e-01, 8.5248e-01, 2.7926e-01, 6.8468e-01,\n",
       "         3.7166e-01, 3.0294e-01, 5.7655e-01, 5.2253e-01, 4.2642e-01, 3.3332e-01,\n",
       "         9.2487e-01, 6.5732e-01, 8.0871e-01, 8.0466e-01, 2.1498e-01, 3.4181e-02,\n",
       "         2.0794e-01, 4.0717e-01, 5.7855e-01, 7.3208e-01, 7.4796e-01, 4.7656e-02,\n",
       "         5.8552e-01, 9.3714e-02, 9.2835e-01, 5.4090e-03, 9.7907e-02, 2.9710e-01,\n",
       "         3.4899e-01, 1.0884e-04, 1.3362e-01, 8.3182e-01, 3.5666e-01, 1.9573e-01,\n",
       "         3.1010e-01, 7.1554e-01, 9.3457e-02, 7.2868e-01, 9.2045e-03, 7.1327e-01,\n",
       "         8.9252e-01, 2.0832e-01, 2.9247e-01, 6.1374e-01, 8.8205e-01, 6.4041e-01,\n",
       "         8.8187e-01, 6.7971e-02, 8.0504e-02, 2.1689e-01, 9.9442e-01, 7.7101e-02,\n",
       "         2.7424e-01, 7.2172e-01, 3.2693e-01, 9.4536e-01, 5.2535e-01, 1.0439e-01,\n",
       "         2.8435e-01, 5.4839e-01, 1.5046e-01, 5.7460e-01, 9.2554e-01, 8.9029e-01,\n",
       "         2.0427e-01, 6.1997e-01, 1.5766e-01, 3.1284e-01, 7.9505e-02, 8.8059e-01,\n",
       "         7.1640e-01, 1.8830e-01, 5.2897e-01, 5.7061e-01, 4.9446e-01, 3.4044e-01,\n",
       "         5.2007e-01, 6.4371e-01, 7.8226e-01, 1.2855e-01, 2.4956e-01, 9.3271e-01,\n",
       "         1.5302e-01, 1.9073e-01, 8.2005e-03, 3.6382e-01, 9.9721e-01, 4.3461e-01,\n",
       "         6.6313e-01, 7.5529e-01, 6.1102e-01, 9.9968e-02, 6.7732e-01, 9.0358e-01,\n",
       "         5.6268e-01, 2.9373e-01, 3.5879e-01, 7.4540e-01, 5.7497e-01, 9.4260e-01,\n",
       "         5.2047e-01, 4.6361e-01, 4.7545e-01, 8.9279e-01, 8.4851e-01, 3.7535e-01,\n",
       "         9.6135e-02, 5.6918e-01, 4.8810e-01, 1.4847e-01, 1.1464e-01, 5.9336e-01,\n",
       "         6.4454e-01, 4.6361e-01, 5.6512e-02, 6.5576e-01, 6.7356e-01, 9.3126e-01,\n",
       "         4.9155e-01, 6.6204e-02, 7.8698e-01, 9.7076e-01, 1.0783e-02, 9.6979e-01,\n",
       "         5.7506e-03, 1.7281e-01, 3.2934e-01, 3.0690e-02, 1.1388e-01, 6.4458e-02,\n",
       "         4.3637e-01, 6.3053e-01, 8.2907e-01, 9.1751e-02, 5.7490e-02, 1.2064e-01,\n",
       "         7.2284e-01, 3.6248e-01, 7.9957e-02, 2.3690e-01, 6.0943e-01, 4.4981e-01,\n",
       "         9.3125e-01, 5.0484e-01, 9.8876e-01, 5.4744e-01, 8.5652e-01, 9.8274e-01,\n",
       "         7.5691e-01, 8.7083e-01, 7.1970e-01, 1.2787e-01, 5.8305e-01, 2.2958e-01,\n",
       "         2.6827e-01, 1.3235e-01, 2.3933e-01, 1.3449e-01, 8.4493e-01, 3.9031e-01,\n",
       "         5.6376e-01, 2.0703e-01, 1.7130e-01, 2.9960e-01, 7.2266e-01, 3.0572e-01,\n",
       "         5.3223e-01, 8.0920e-01, 1.0855e-01, 7.7495e-01, 9.9325e-01, 2.3383e-02,\n",
       "         8.8155e-01, 1.6041e-01, 3.8738e-01, 8.2380e-01, 2.9180e-01, 5.0366e-01,\n",
       "         1.1319e-01, 6.8135e-01, 9.1643e-01, 6.8694e-01, 5.4642e-01, 9.9098e-02,\n",
       "         9.2996e-01, 3.6350e-01, 6.1998e-01, 2.3218e-01, 4.1061e-01, 9.7934e-01,\n",
       "         1.9855e-01, 4.4793e-01, 1.3587e-01, 4.6469e-01, 6.1715e-02, 1.0013e-01,\n",
       "         5.8719e-01, 9.0633e-01, 9.0070e-01, 7.2118e-01, 6.5019e-01, 3.2753e-01,\n",
       "         8.2864e-01, 5.1721e-01, 6.0006e-01, 1.5287e-01, 8.4476e-02, 3.7919e-01,\n",
       "         8.4977e-02, 3.4889e-01, 8.1191e-01, 6.9908e-02, 3.1359e-01, 5.7764e-01,\n",
       "         1.1457e-01, 7.9545e-01, 4.5559e-01, 1.8981e-01, 2.6191e-01, 3.8543e-01,\n",
       "         2.7128e-01, 8.5560e-01, 8.5583e-01, 2.0236e-01, 8.6136e-01, 8.1523e-01,\n",
       "         8.7459e-02, 1.5906e-01, 9.3267e-01, 4.9637e-01, 5.6008e-01, 4.2137e-01,\n",
       "         8.3688e-01, 4.9815e-01, 3.7305e-02, 8.7191e-01, 6.4467e-01, 9.9644e-01,\n",
       "         7.8891e-01, 8.3513e-01, 6.6335e-02, 5.3869e-01, 3.8812e-01, 2.1512e-02,\n",
       "         2.7506e-01, 5.3239e-01, 4.9168e-01, 1.8814e-01, 8.3356e-01, 4.4822e-01,\n",
       "         1.7195e-01, 5.0060e-01, 3.4185e-01, 7.9001e-01, 8.8844e-01, 6.8709e-01,\n",
       "         5.3036e-01, 4.8715e-02, 9.6403e-01, 1.4855e-01, 3.6010e-01, 1.7708e-01,\n",
       "         7.0518e-01, 9.2225e-01, 7.5817e-01, 5.1034e-01, 7.9757e-01, 5.6036e-01,\n",
       "         7.8003e-01, 2.4008e-01, 8.5312e-01, 5.0548e-01, 3.3668e-01, 3.3368e-01,\n",
       "         3.4689e-01, 7.6722e-01, 8.8318e-01, 7.1783e-01, 2.4978e-02, 8.9568e-01,\n",
       "         9.0201e-01, 1.9280e-01, 9.0739e-01, 8.2877e-01, 8.5545e-01, 3.0234e-01,\n",
       "         6.2696e-01, 5.1089e-01, 1.8225e-01, 1.7467e-01, 9.5102e-01, 8.6979e-01,\n",
       "         5.2259e-01, 8.5921e-01, 3.8440e-01, 1.6428e-01, 6.3304e-01, 1.6062e-01,\n",
       "         7.5722e-01, 3.3528e-01, 5.4385e-03, 9.5013e-01, 4.0810e-01, 4.1740e-01,\n",
       "         2.0708e-01, 3.3849e-01, 1.4878e-02, 4.8611e-01, 6.8013e-01, 8.1056e-01,\n",
       "         2.4225e-01, 4.9966e-01, 8.7739e-01, 4.0572e-01, 4.0482e-01, 9.5730e-02,\n",
       "         8.2736e-01, 9.5017e-01, 8.1925e-01, 7.6350e-01, 5.5125e-01, 5.7253e-01,\n",
       "         7.9494e-01, 6.3355e-01, 5.9611e-01, 5.8266e-01, 8.2399e-01, 3.1459e-01,\n",
       "         9.6011e-01, 7.5975e-01, 4.3056e-01, 3.0043e-01, 6.8355e-01, 4.0475e-01,\n",
       "         6.5027e-01, 1.1122e-01, 3.1359e-01, 7.6838e-02, 1.1349e-01, 8.2130e-01,\n",
       "         5.2543e-01, 4.0212e-01, 9.0993e-01, 8.0222e-01, 4.1510e-01, 7.3404e-01,\n",
       "         2.0051e-01, 3.1278e-01, 1.3095e-01, 1.1574e-01, 2.9973e-01, 3.0477e-02,\n",
       "         7.2150e-01, 4.3633e-01, 2.8510e-01, 4.8536e-01, 6.0719e-01, 6.5047e-03,\n",
       "         7.3294e-01, 6.6315e-01, 2.7107e-01, 4.2537e-01, 6.6284e-01, 8.5043e-01,\n",
       "         6.1428e-01, 3.1055e-01, 9.0937e-02, 3.2510e-02, 9.3879e-01, 2.8858e-01,\n",
       "         5.8960e-01, 3.9052e-02, 4.7160e-01, 3.7161e-01, 4.2669e-02, 8.5327e-01,\n",
       "         5.0662e-01, 8.6906e-01, 7.3621e-01, 4.5295e-01, 1.9594e-02, 5.1083e-01,\n",
       "         6.6250e-01, 2.7661e-02, 6.8790e-01, 3.0500e-02, 4.3633e-01, 8.5314e-01,\n",
       "         7.6300e-01, 8.4482e-01, 1.5702e-01, 5.7477e-01, 8.6316e-01, 6.9357e-02,\n",
       "         9.6636e-01, 6.6582e-01, 2.6672e-01, 9.0668e-01, 3.9111e-01, 3.6472e-02,\n",
       "         9.5245e-01, 1.7475e-02, 8.1994e-01, 4.4918e-01, 9.1492e-01, 7.8782e-01,\n",
       "         2.8517e-02, 9.2096e-01, 3.5323e-01, 1.5527e-01, 1.3938e-01, 5.4099e-01,\n",
       "         2.1270e-01, 1.2321e-01, 6.9066e-01, 1.5919e-02, 9.8919e-01, 8.4485e-01,\n",
       "         6.0240e-01, 5.3467e-01, 5.0088e-01, 4.5319e-01, 6.4606e-01, 7.8284e-01,\n",
       "         5.8893e-01, 6.3646e-02, 5.3276e-01, 1.6555e-03, 1.1522e-01, 1.9716e-01,\n",
       "         6.2697e-01, 3.4671e-02, 2.0376e-01, 8.4931e-01, 6.3785e-01, 2.4342e-01,\n",
       "         8.0609e-01, 5.2987e-01, 4.9564e-01, 9.8481e-01, 9.5840e-01, 8.0895e-01,\n",
       "         2.8180e-01, 4.4382e-01, 2.8243e-03, 3.0271e-01, 9.5447e-02, 7.7604e-01,\n",
       "         2.4182e-01, 5.9922e-01, 4.5379e-01, 4.4711e-01, 3.9078e-01, 1.9407e-01,\n",
       "         3.3946e-01, 5.3593e-01, 1.9166e-01, 8.5214e-01, 5.2594e-01, 5.4934e-01,\n",
       "         5.5596e-01, 9.3221e-01, 6.0633e-01, 2.3307e-01, 2.2894e-01, 3.1021e-02,\n",
       "         1.7427e-01, 2.3260e-01, 4.9267e-01, 5.9373e-01, 4.2597e-01, 9.8298e-01,\n",
       "         8.8818e-01, 5.2970e-01, 9.1470e-01, 8.8661e-01, 5.2309e-01, 9.4326e-01,\n",
       "         1.9791e-01, 6.8066e-01, 8.0614e-01, 6.8061e-01, 6.8558e-01, 3.1926e-01,\n",
       "         5.1895e-01, 7.0200e-01, 6.5460e-01, 6.6116e-01, 1.5659e-01, 8.5088e-01,\n",
       "         9.7601e-01, 3.2720e-01, 4.1190e-01, 8.2206e-02, 6.0400e-01, 4.6512e-01,\n",
       "         6.4819e-02, 8.5044e-01, 1.1924e-01, 6.0684e-01, 1.0171e-01, 3.0158e-01,\n",
       "         1.4683e-01, 9.0130e-01, 1.4664e-01, 5.4434e-01, 8.1915e-01, 8.9574e-01,\n",
       "         3.4648e-01, 6.3825e-01, 6.3467e-01, 1.3008e-01, 8.2099e-01, 6.3379e-02,\n",
       "         8.2445e-01, 3.9323e-01, 5.2921e-01, 1.2071e-01, 2.9128e-01, 1.4981e-01,\n",
       "         1.9617e-02, 9.0448e-01, 9.7359e-02, 2.4137e-01, 2.5618e-01, 2.6307e-01,\n",
       "         5.6525e-01, 7.7951e-01, 5.0668e-01, 6.0291e-01, 4.8733e-01, 2.0681e-01,\n",
       "         8.1103e-01, 2.5926e-01, 7.2268e-03, 9.7032e-01, 5.2562e-02, 9.1806e-01,\n",
       "         5.7681e-01, 4.2227e-01, 2.5675e-02, 6.9180e-01, 1.7935e-01, 3.8547e-01,\n",
       "         7.8885e-01, 8.4805e-01, 6.2849e-01, 4.4289e-01, 1.6640e-01, 6.3706e-01,\n",
       "         6.4373e-01, 8.3104e-02, 7.3067e-01, 7.0714e-01, 9.2620e-01, 4.5228e-01,\n",
       "         6.1769e-01, 6.1656e-01, 8.3097e-01, 9.9806e-01, 5.1506e-01, 9.2354e-01,\n",
       "         4.9804e-01, 8.3444e-01, 3.2902e-01, 8.0225e-01, 9.6066e-02, 3.8841e-01,\n",
       "         6.5456e-01, 3.4688e-01, 7.9795e-01, 6.3544e-01, 2.8259e-01, 1.2230e-01,\n",
       "         4.0104e-01, 3.4589e-01, 7.4781e-01, 2.9502e-01, 9.3472e-01, 8.4675e-01,\n",
       "         2.3566e-01, 6.1436e-01, 1.8113e-01, 5.2611e-01, 4.1248e-01, 6.4786e-01,\n",
       "         6.2239e-01, 2.0236e-01, 6.9463e-01, 6.0473e-01, 5.5982e-01, 7.6028e-01,\n",
       "         1.1348e-01, 7.1241e-01, 7.3508e-01, 9.0043e-01, 3.7703e-01, 9.6765e-01,\n",
       "         1.7380e-01, 7.8051e-01, 2.5402e-01, 7.4638e-01, 3.8120e-01, 4.3266e-01,\n",
       "         9.4757e-01, 3.1914e-01, 9.5347e-01, 4.2288e-01, 8.6990e-01, 9.2235e-01,\n",
       "         7.1923e-01, 4.9885e-01, 2.9570e-01, 8.4239e-01, 3.2429e-01, 7.6012e-01,\n",
       "         3.4847e-01, 2.0919e-01, 1.3585e-01, 7.2775e-01, 8.6197e-02, 8.0762e-01,\n",
       "         3.3745e-01, 1.1327e-01, 4.5141e-01, 3.8550e-01, 8.6562e-01, 7.8626e-01,\n",
       "         1.6480e-01, 1.9919e-01, 6.7323e-01, 1.9218e-01, 5.9375e-01, 5.1291e-01,\n",
       "         7.4116e-01, 4.5288e-01, 6.0240e-01, 7.7304e-02, 1.1585e-01, 5.7761e-01,\n",
       "         4.7065e-01, 1.1021e-01, 7.7315e-01, 6.1045e-01, 6.0739e-01, 6.1044e-01,\n",
       "         6.2229e-01, 7.6060e-01, 4.5405e-01, 1.2803e-01, 2.1573e-01, 1.6990e-02,\n",
       "         8.4413e-01, 9.0960e-01, 8.6948e-01, 5.6195e-01, 3.2750e-01, 7.8968e-03,\n",
       "         7.0229e-02, 4.7206e-01, 9.9216e-01, 4.2004e-01, 1.3958e-01, 9.8984e-01,\n",
       "         1.6106e-01, 9.5251e-01, 9.8640e-02, 9.8565e-01, 3.5085e-01, 1.3667e-01,\n",
       "         8.5548e-02, 7.6613e-01, 1.3250e-01, 6.4037e-01, 5.5608e-01, 3.6553e-01,\n",
       "         8.5921e-01, 5.4004e-01, 9.8217e-01, 6.4239e-01, 5.4196e-01, 7.5663e-01,\n",
       "         3.1894e-02, 7.8414e-01, 7.0405e-01, 1.1893e-01, 6.7941e-01, 3.8963e-01,\n",
       "         3.5811e-01, 1.1529e-02, 3.1858e-01, 5.1796e-01, 6.5431e-01, 2.8733e-01,\n",
       "         3.4055e-01, 7.9370e-01, 7.1695e-01, 5.3336e-01, 4.2237e-01, 6.2875e-01,\n",
       "         4.4231e-01, 9.6721e-01, 7.3685e-01, 3.0067e-01, 4.0028e-01, 5.8724e-01,\n",
       "         7.8347e-01, 9.8326e-01, 8.3030e-01, 9.4225e-02, 9.9500e-02, 9.0757e-01,\n",
       "         7.1322e-02, 5.6055e-01, 9.1260e-01, 5.6213e-01, 7.8363e-01, 5.3251e-01,\n",
       "         7.0175e-01, 8.6940e-01, 2.9246e-01, 1.9606e-01, 2.3158e-01, 9.2142e-01,\n",
       "         1.7417e-01, 7.4700e-01, 1.5862e-01, 8.9567e-01, 8.3083e-01, 3.7882e-02,\n",
       "         3.8795e-01, 2.1362e-01, 4.2541e-01, 8.4787e-01, 1.8893e-01, 6.1399e-01,\n",
       "         1.4480e-01, 6.3406e-01, 2.9839e-01, 2.0728e-01]])"
      ]
     },
     "execution_count": 5,
     "metadata": {},
     "output_type": "execute_result"
    }
   ],
   "source": [
    "import torch\n",
    "from torchvision.models import resnet18, ResNet18_Weights\n",
    "\n",
    "model = resnet18(weights= ResNet18_Weights.DEFAULT)\n",
    "data = torch.rand(1,3,64,64)\n",
    "labels = torch.rand(1,1000)\n",
    "labels"
   ]
  },
  {
   "cell_type": "code",
   "execution_count": 7,
   "metadata": {},
   "outputs": [],
   "source": [
    "prediction = model(data)\n",
    "loss = (prediction - labels).sum()\n",
    "loss.backward()\n",
    "optim = torch.optim.SGD(model.parameters(), lr = 1e-2, momentum = 0.9)\n",
    "optim.step()"
   ]
  },
  {
   "cell_type": "markdown",
   "metadata": {},
   "source": [
    "### Diffferentiation in autograd"
   ]
  },
  {
   "cell_type": "code",
   "execution_count": 21,
   "metadata": {},
   "outputs": [],
   "source": [
    "a = torch.tensor([2.0,3.0], requires_grad=True)\n",
    "b= torch.tensor([6.0,4.0],requires_grad=True)\n",
    "q = 3*a**3 - b**2\n",
    "q.backward(gradient = torch.tensor([1.0,1.0]))"
   ]
  },
  {
   "cell_type": "code",
   "execution_count": 22,
   "metadata": {},
   "outputs": [
    {
     "data": {
      "text/plain": [
       "tensor([36., 81.])"
      ]
     },
     "execution_count": 22,
     "metadata": {},
     "output_type": "execute_result"
    }
   ],
   "source": [
    "a.grad"
   ]
  },
  {
   "cell_type": "code",
   "execution_count": 23,
   "metadata": {},
   "outputs": [
    {
     "data": {
      "text/plain": [
       "tensor([-12.,  -8.])"
      ]
     },
     "execution_count": 23,
     "metadata": {},
     "output_type": "execute_result"
    }
   ],
   "source": [
    "b.grad"
   ]
  },
  {
   "cell_type": "code",
   "execution_count": 24,
   "metadata": {},
   "outputs": [],
   "source": [
    "from torch import nn, optim\n",
    "model = resnet18(weights=ResNet18_Weights.DEFAULT)\n",
    "for param in model.parameters():\n",
    "        param.requires_grad = False\n"
   ]
  },
  {
   "cell_type": "code",
   "execution_count": 26,
   "metadata": {},
   "outputs": [],
   "source": [
    "model.fc = nn.Linear(512,80)\n",
    "optimizer = optim.SGD(model.parameters(), lr = 1e-2, momentum= 0.9)"
   ]
  },
  {
   "cell_type": "code",
   "execution_count": 31,
   "metadata": {},
   "outputs": [],
   "source": [
    "### Neural Nets"
   ]
  },
  {
   "cell_type": "code",
   "execution_count": 32,
   "metadata": {},
   "outputs": [],
   "source": [
    "import torch\n",
    "import torch.nn as nn\n",
    "import torch.nn.functional as F"
   ]
  },
  {
   "cell_type": "code",
   "execution_count": 44,
   "metadata": {},
   "outputs": [
    {
     "name": "stdout",
     "output_type": "stream",
     "text": [
      "Net(\n",
      "  (conv1): Conv2d(1, 6, kernel_size=(5, 5), stride=(1, 1))\n",
      "  (conv2): Conv2d(6, 16, kernel_size=(5, 5), stride=(1, 1))\n",
      "  (fc1): Linear(in_features=400, out_features=120, bias=True)\n",
      "  (fc2): Linear(in_features=120, out_features=84, bias=True)\n",
      "  (fc3): Linear(in_features=84, out_features=10, bias=True)\n",
      ")\n"
     ]
    }
   ],
   "source": [
    "class Net(nn.Module):\n",
    "    def __init__(self):\n",
    "        super(Net,self).__init__()\n",
    "        self.conv1 = nn.Conv2d(1,6,5)\n",
    "        self.conv2 = nn.Conv2d(6,16,5)\n",
    "        self.fc1 = nn.Linear(16*5*5, 120)\n",
    "        self.fc2 = nn.Linear(120, 84)\n",
    "        self.fc3 = nn.Linear(84,10)\n",
    "    def forward(self, input):\n",
    "        c1 = F.relu(self.conv1(input))\n",
    "        s2 = F.max_pool2d(c1, (2,2))\n",
    "        c3 = F.relu(self.conv2(s2))\n",
    "        s4 = F.max_pool2d(c3, (2,2))\n",
    "        s4 = torch.flatten(s4,1)\n",
    "        f5 = F.relu(self.fc1(s4))\n",
    "        f6 = F.relu(self.fc2(f5))\n",
    "        f7 = self.fc3(f6)\n",
    "        return f7\n",
    "    \n",
    "net = Net()\n",
    "print(net)"
   ]
  },
  {
   "cell_type": "markdown",
   "metadata": {},
   "source": [
    "## Load data\n",
    "\n"
   ]
  },
  {
   "cell_type": "code",
   "execution_count": 58,
   "metadata": {},
   "outputs": [],
   "source": [
    "import torchvision\n",
    "import torchvision.transforms as transforms"
   ]
  },
  {
   "cell_type": "code",
   "execution_count": 56,
   "metadata": {},
   "outputs": [],
   "source": [
    "transform = transforms.Compose([transforms.ToTensor(), transforms.Normalize((0.5,0.5,0.5), (0.5,0.5, 0.5))])\n",
    "batch_size = 4"
   ]
  },
  {
   "cell_type": "code",
   "execution_count": 68,
   "metadata": {},
   "outputs": [
    {
     "name": "stdout",
     "output_type": "stream",
     "text": [
      "Files already downloaded and verified\n",
      "Files already downloaded and verified\n"
     ]
    }
   ],
   "source": [
    "trainset = torchvision.datasets.CIFAR10(root = './data',train=True, download=True, transform = transform)\n",
    "trainloader = torch.utils.data.DataLoader(trainset, batch_size = batch_size, shuffle=True, num_workers=2)\n",
    "testset = torchvision.datasets.CIFAR10(root ='./data', train = False, download=True,transform =False )\n",
    "testloader = torch.utils.data.DataLoader(testset, batch_size = batch_size, num_workers = 2)\n",
    "clases = ('plane', 'car', 'bird', 'cat', 'deer', 'dog', 'frog', 'horse', 'ship', 'truck')"
   ]
  },
  {
   "cell_type": "code",
   "execution_count": 73,
   "metadata": {},
   "outputs": [
    {
     "name": "stdout",
     "output_type": "stream",
     "text": [
      "ship  car  frog  cat \n"
     ]
    },
    {
     "data": {
      "image/png": "[encoded data removed]",
      "text/plain": [
       "<Figure size 640x480 with 1 Axes>"
      ]
     },
     "metadata": {},
     "output_type": "display_data"
    }
   ],
   "source": [
    "import matplotlib.pyplot as plt\n",
    "import numpy as np\n",
    "\n",
    "def imshow(img):\n",
    "    img = img/2 +0.5\n",
    "    npimg = img.numpy()\n",
    "    plt.imshow(np.transpose(npimg, (1,2,0)))\n",
    "    plt.show\n",
    "\n",
    "dataiter = iter(trainloader)\n",
    "images, labels = next(dataiter)\n",
    "imshow(torchvision.utils.make_grid(images))\n",
    "print(' '.join(f'{clases[labels[j]]} ' for j in range(batch_size)))\n"
   ]
  },
  {
   "cell_type": "code",
   "execution_count": 74,
   "metadata": {},
   "outputs": [],
   "source": [
    "# Define new network\n",
    "import torch.nn as nn\n",
    "import torch.nn.functional as F\n",
    "\n",
    "net = nn.Sequential(\n",
    "    [nn.Conv2d(3,5,5),\n",
    "     nn.ReLU(),\n",
    "     nn.MaxPool2d(2,2),\n",
    "     nn.Conv2d(6,16,5),\n",
    "     nn.ReLU(),\n",
    "     nn.MaxPool2d(2,2),\n",
    "     nn.\n",
    "\n",
    "     nn.Linear(16*5*5, 120),\n",
    "     nn.Linear(120,84),\n",
    "     nn.Linear(84,10)\n",
    "\n",
    "    ])\n",
    "\n",
    "\n"
   ]
  }
 ],
 "metadata": {
  "kernelspec": {
   "display_name": "py311",
   "language": "python",
   "name": "python3"
  },
  "language_info": {
   "codemirror_mode": {
    "name": "ipython",
    "version": 3
   },
   "file_extension": ".py",
   "mimetype": "text/x-python",
   "name": "python",
   "nbconvert_exporter": "python",
   "pygments_lexer": "ipython3",
   "version": "3.11.5"
  }
 },
 "nbformat": 4,
 "nbformat_minor": 2
}
